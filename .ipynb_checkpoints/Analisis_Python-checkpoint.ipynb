{
 "cells": [
  {
   "cell_type": "markdown",
   "id": "c232c1e0",
   "metadata": {},
   "source": [
    "<center > <h1> ANÁLISIS PYTHON </h1> </center>"
   ]
  },
  {
   "cell_type": "code",
   "execution_count": 1,
   "id": "aa2d0796",
   "metadata": {},
   "outputs": [],
   "source": [
    "#Paquetes\n",
    "import numpy as np #1. NUMPY\n"
   ]
  },
  {
   "cell_type": "code",
   "execution_count": 2,
   "id": "4355d3b3",
   "metadata": {},
   "outputs": [
    {
     "name": "stdout",
     "output_type": "stream",
     "text": [
      "media: 6.0\n",
      "desviación estándar: 1.4142135623730951\n"
     ]
    }
   ],
   "source": [
    "#PLANTILLA PARA LO NECESARIO\n",
    "\n",
    "\n",
    "datos = np.array([1,2,3,4,5,6,7,8,9,10])\n",
    "\n",
    "datos_util = [i for i in datos if i>3 and i<9 ]\n",
    "\n",
    "print(\"media:\",np.median(datos_util))\n",
    "print(\"desviación estándar:\", np.std(datos_util))\n",
    "\n"
   ]
  },
  {
   "cell_type": "code",
   "execution_count": null,
   "id": "c809a658",
   "metadata": {},
   "outputs": [],
   "source": []
  }
 ],
 "metadata": {
  "kernelspec": {
   "display_name": "Python 3 (ipykernel)",
   "language": "python",
   "name": "python3"
  },
  "language_info": {
   "codemirror_mode": {
    "name": "ipython",
    "version": 3
   },
   "file_extension": ".py",
   "mimetype": "text/x-python",
   "name": "python",
   "nbconvert_exporter": "python",
   "pygments_lexer": "ipython3",
   "version": "3.10.1"
  }
 },
 "nbformat": 4,
 "nbformat_minor": 5
}
