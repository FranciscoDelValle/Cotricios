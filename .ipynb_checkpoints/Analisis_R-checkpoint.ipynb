{
 "cells": [
  {
   "cell_type": "markdown",
   "id": "ffd5dbd6",
   "metadata": {},
   "source": [
    "<center> <h1> ANÁLISIS R </h1> </center>"
   ]
  },
  {
   "cell_type": "code",
   "execution_count": 18,
   "id": "bc5f2541",
   "metadata": {},
   "outputs": [],
   "source": [
    "#PAQUETES:\n",
    "\n",
    "library(tidyverse) #1.TIDYVERSE "
   ]
  },
  {
   "cell_type": "code",
   "execution_count": 37,
   "id": "4f976166",
   "metadata": {},
   "outputs": [
    {
     "name": "stdout",
     "output_type": "stream",
     "text": [
      "\u001b[90m# A tibble: 20 x 3\u001b[39m\n",
      "       x     y     z\n",
      "   \u001b[3m\u001b[90m<int>\u001b[39m\u001b[23m \u001b[3m\u001b[90m<int>\u001b[39m\u001b[23m \u001b[3m\u001b[90m<int>\u001b[39m\u001b[23m\n",
      "\u001b[90m 1\u001b[39m     1     9     4\n",
      "\u001b[90m 2\u001b[39m     9     5     8\n",
      "\u001b[90m 3\u001b[39m     5    10     2\n",
      "\u001b[90m 4\u001b[39m     7     4     1\n",
      "\u001b[90m 5\u001b[39m     9     3     4\n",
      "\u001b[90m 6\u001b[39m     5     1     9\n",
      "\u001b[90m 7\u001b[39m     2     5     3\n",
      "\u001b[90m 8\u001b[39m     2     8    10\n",
      "\u001b[90m 9\u001b[39m     8     5     5\n",
      "\u001b[90m10\u001b[39m     5     9     5\n",
      "\u001b[90m11\u001b[39m     5     9     2\n",
      "\u001b[90m12\u001b[39m    10     6    10\n",
      "\u001b[90m13\u001b[39m    10     9    10\n",
      "\u001b[90m14\u001b[39m     7    10     9\n",
      "\u001b[90m15\u001b[39m     4     7     2\n",
      "\u001b[90m16\u001b[39m     3     8    10\n",
      "\u001b[90m17\u001b[39m     2     8     3\n",
      "\u001b[90m18\u001b[39m     5     3     1\n",
      "\u001b[90m19\u001b[39m     4     5     2\n",
      "\u001b[90m20\u001b[39m     1     9     5\n"
     ]
    }
   ],
   "source": [
    "set.seed(1789)\n",
    "\n",
    "cotricio <- tibble( x = sample(1:10,20, replace = T),\n",
    "                    y = sample(1:10,20, replace = T),\n",
    "                    z = sample(1:10,20, replace = T))\n",
    "\n",
    "print(cotricio)\n",
    "\n"
   ]
  },
  {
   "cell_type": "code",
   "execution_count": 51,
   "id": "865c602e",
   "metadata": {},
   "outputs": [
    {
     "name": "stdout",
     "output_type": "stream",
     "text": [
      "\u001b[90m# A tibble: 1 x 3\u001b[39m\n",
      "  `mean(x)` `mean(y)` `mean(z)`\n",
      "      \u001b[3m\u001b[90m<dbl>\u001b[39m\u001b[23m     \u001b[3m\u001b[90m<dbl>\u001b[39m\u001b[23m     \u001b[3m\u001b[90m<dbl>\u001b[39m\u001b[23m\n",
      "\u001b[90m1\u001b[39m       5.2      6.65      5.25\n"
     ]
    }
   ],
   "source": [
    "print(cotricio %>% summarize(mean(x),mean(y),mean(z)))"
   ]
  }
 ],
 "metadata": {
  "kernelspec": {
   "display_name": "R",
   "language": "R",
   "name": "ir"
  },
  "language_info": {
   "codemirror_mode": "r",
   "file_extension": ".r",
   "mimetype": "text/x-r-source",
   "name": "R",
   "pygments_lexer": "r",
   "version": "4.1.2"
  }
 },
 "nbformat": 4,
 "nbformat_minor": 5
}
