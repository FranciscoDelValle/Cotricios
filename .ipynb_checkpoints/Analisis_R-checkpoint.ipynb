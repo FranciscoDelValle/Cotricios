{
 "cells": [
  {
   "cell_type": "markdown",
   "id": "ffd5dbd6",
   "metadata": {},
   "source": [
    "<center> <h1> ANÁLISIS R </h1> </center>"
   ]
  },
  {
   "cell_type": "code",
   "execution_count": 1,
   "id": "bc5f2541",
   "metadata": {},
   "outputs": [
    {
     "name": "stderr",
     "output_type": "stream",
     "text": [
      "-- \u001b[1mAttaching packages\u001b[22m ------------------------------------------------------------------------------- tidyverse 1.3.1 --\n",
      "\n",
      "\u001b[32mv\u001b[39m \u001b[34mggplot2\u001b[39m 3.3.5     \u001b[32mv\u001b[39m \u001b[34mpurrr  \u001b[39m 0.3.4\n",
      "\u001b[32mv\u001b[39m \u001b[34mtibble \u001b[39m 3.1.6     \u001b[32mv\u001b[39m \u001b[34mdplyr  \u001b[39m 1.0.7\n",
      "\u001b[32mv\u001b[39m \u001b[34mtidyr  \u001b[39m 1.1.4     \u001b[32mv\u001b[39m \u001b[34mstringr\u001b[39m 1.4.0\n",
      "\u001b[32mv\u001b[39m \u001b[34mreadr  \u001b[39m 2.1.1     \u001b[32mv\u001b[39m \u001b[34mforcats\u001b[39m 0.5.1\n",
      "\n",
      "-- \u001b[1mConflicts\u001b[22m ---------------------------------------------------------------------------------- tidyverse_conflicts() --\n",
      "\u001b[31mx\u001b[39m \u001b[34mdplyr\u001b[39m::\u001b[32mfilter()\u001b[39m masks \u001b[34mstats\u001b[39m::filter()\n",
      "\u001b[31mx\u001b[39m \u001b[34mdplyr\u001b[39m::\u001b[32mlag()\u001b[39m    masks \u001b[34mstats\u001b[39m::lag()\n",
      "\n"
     ]
    }
   ],
   "source": [
    "#PAQUETES:\n",
    "\n",
    "library(tidyverse) #1.TIDYVERSE "
   ]
  },
  {
   "cell_type": "code",
   "execution_count": 2,
   "id": "4f976166",
   "metadata": {},
   "outputs": [
    {
     "name": "stdout",
     "output_type": "stream",
     "text": [
      "\u001b[90m# A tibble: 20 x 3\u001b[39m\n",
      "       x     y     z\n",
      "   \u001b[3m\u001b[90m<int>\u001b[39m\u001b[23m \u001b[3m\u001b[90m<int>\u001b[39m\u001b[23m \u001b[3m\u001b[90m<int>\u001b[39m\u001b[23m\n",
      "\u001b[90m 1\u001b[39m     1     9     4\n",
      "\u001b[90m 2\u001b[39m     9     5     8\n",
      "\u001b[90m 3\u001b[39m     5    10     2\n",
      "\u001b[90m 4\u001b[39m     7     4     1\n",
      "\u001b[90m 5\u001b[39m     9     3     4\n",
      "\u001b[90m 6\u001b[39m     5     1     9\n",
      "\u001b[90m 7\u001b[39m     2     5     3\n",
      "\u001b[90m 8\u001b[39m     2     8    10\n",
      "\u001b[90m 9\u001b[39m     8     5     5\n",
      "\u001b[90m10\u001b[39m     5     9     5\n",
      "\u001b[90m11\u001b[39m     5     9     2\n",
      "\u001b[90m12\u001b[39m    10     6    10\n",
      "\u001b[90m13\u001b[39m    10     9    10\n",
      "\u001b[90m14\u001b[39m     7    10     9\n",
      "\u001b[90m15\u001b[39m     4     7     2\n",
      "\u001b[90m16\u001b[39m     3     8    10\n",
      "\u001b[90m17\u001b[39m     2     8     3\n",
      "\u001b[90m18\u001b[39m     5     3     1\n",
      "\u001b[90m19\u001b[39m     4     5     2\n",
      "\u001b[90m20\u001b[39m     1     9     5\n"
     ]
    }
   ],
   "source": [
    "set.seed(1789) ## seed para tener los mismos datos siempre\n",
    "\n",
    "datos <- tibble( x = sample(1:10,20, replace = T),\n",
    "                    y = sample(1:10,20, replace = T),\n",
    "                    z = sample(1:10,20, replace = T))\n",
    "\n",
    "print(datos)\n",
    "\n"
   ]
  },
  {
   "cell_type": "code",
   "execution_count": 3,
   "id": "865c602e",
   "metadata": {},
   "outputs": [
    {
     "name": "stdout",
     "output_type": "stream",
     "text": [
      "\u001b[90m# A tibble: 1 x 3\u001b[39m\n",
      "  `mean(x)` `mean(y)` `mean(z)`\n",
      "      \u001b[3m\u001b[90m<dbl>\u001b[39m\u001b[23m     \u001b[3m\u001b[90m<dbl>\u001b[39m\u001b[23m     \u001b[3m\u001b[90m<dbl>\u001b[39m\u001b[23m\n",
      "\u001b[90m1\u001b[39m       5.2      6.65      5.25\n"
     ]
    }
   ],
   "source": [
    "print(datos %>% summarize(mean(x),mean(y),mean(z)))"
   ]
  },
  {
   "cell_type": "code",
   "execution_count": 8,
   "id": "268b98b4",
   "metadata": {},
   "outputs": [
    {
     "name": "stdout",
     "output_type": "stream",
     "text": [
      "   pitch(x) rool(y) yaw(z)          fecha-hora\n",
      "1        34      67     93 07-02-2022 14:53:51\n",
      "2        16     115    128 07-02-2022 14:53:52\n",
      "3        57     101     47 07-02-2022 14:53:53\n",
      "4        57       7     51 07-02-2022 14:53:54\n",
      "5        12      77    161 07-02-2022 14:53:55\n",
      "6        59     146      0 07-02-2022 14:53:56\n",
      "7        85       5     45 07-02-2022 14:53:57\n",
      "8        35     100     99 07-02-2022 14:53:58\n",
      "9        80     106      8 07-02-2022 14:53:59\n",
      "10       65     173    154 07-02-2022 14:54:00\n",
      "11       63     136    110 07-02-2022 14:54:01\n",
      "12       29       1     79 07-02-2022 14:54:02\n",
      "13       65       9    179 07-02-2022 14:54:03\n",
      "14       44      69    118 07-02-2022 14:54:04\n",
      "15       58      69     44 07-02-2022 14:54:05\n",
      "16       42      97      6 07-02-2022 14:54:06\n",
      "17       16     101    119 07-02-2022 14:54:07\n",
      "18       51      41    105 07-02-2022 14:54:08\n",
      "19       21      19    163 07-02-2022 14:54:09\n",
      "20       48     122    104 07-02-2022 14:54:10\n",
      "21       86     152    103 07-02-2022 14:54:11\n",
      "22       53      29     50 07-02-2022 14:54:12\n",
      "23        7      65     56 07-02-2022 14:54:13\n",
      "24       83     165    149 07-02-2022 14:54:14\n",
      "25       23     102    119 07-02-2022 14:54:15\n",
      "26       31      93     67 07-02-2022 14:54:16\n",
      "27       72     155    101 07-02-2022 14:54:17\n",
      "28        3       8     21 07-02-2022 14:54:18\n",
      "29       82     157     25 07-02-2022 14:54:19\n",
      "30        3     151     74 07-02-2022 14:54:20\n",
      "31       26      94     43 07-02-2022 14:54:21\n",
      "32       88      21     62 07-02-2022 14:54:22\n",
      "33       78     177     35 07-02-2022 14:54:23\n",
      "34       54      73    112 07-02-2022 14:54:24\n",
      "35       89      62     39 07-02-2022 14:54:25\n",
      "36       41     132      4 07-02-2022 14:54:26\n",
      "37       40     158     14 07-02-2022 14:54:27\n",
      "38       90      11     17 07-02-2022 14:54:28\n",
      "39       33     127    141 07-02-2022 14:54:29\n",
      "40       17     156    129 07-02-2022 14:54:30\n",
      "41       78     149    176 07-02-2022 14:54:31\n",
      "42       32      24    128 07-02-2022 14:54:32\n",
      "43       49      13     55 07-02-2022 14:54:33\n",
      "44       15     173    116 07-02-2022 14:54:34\n",
      "45       41      18     10 07-02-2022 14:54:35\n",
      "46       36      91    141 07-02-2022 14:54:36\n",
      "47       51      57      5 07-02-2022 14:54:37\n",
      "48       78     136    134 07-02-2022 14:54:38\n",
      "49       70      60     30 07-02-2022 14:54:39\n"
     ]
    }
   ],
   "source": [
    "datos  <- read.csv(\"data.csv\",                 \n",
    "         header = TRUE,        \n",
    "         sep = \";\",            \n",
    "         quote = \"\\\"\",        \n",
    "         dec = \".\",            \n",
    "         fill = TRUE,         \n",
    "         comment.char = \"\",    \n",
    "         encoding = \"unknown\") \n",
    "\n",
    "#-----------------------------\n",
    "\n",
    "datos  <- datos  %>% rename(\"pitch(x)\" = ï..pitch, \"rool(y)\" = roll, \"yaw(z)\" = yaw, \"fecha-hora\" = timestamp)\n",
    "\n",
    "\n",
    "print(datos)"
   ]
  },
  {
   "cell_type": "code",
   "execution_count": 5,
   "id": "cd598893",
   "metadata": {},
   "outputs": [
    {
     "data": {
      "text/html": [
       "<table class=\"dataframe\">\n",
       "<caption>A data.frame: 6 × 1</caption>\n",
       "<thead>\n",
       "\t<tr><th></th><th scope=col>fecha-hora</th></tr>\n",
       "\t<tr><th></th><th scope=col>&lt;chr&gt;</th></tr>\n",
       "</thead>\n",
       "<tbody>\n",
       "\t<tr><th scope=row>1</th><td>07-02-2022 14:53:51</td></tr>\n",
       "\t<tr><th scope=row>2</th><td>07-02-2022 14:53:52</td></tr>\n",
       "\t<tr><th scope=row>3</th><td>07-02-2022 14:53:53</td></tr>\n",
       "\t<tr><th scope=row>4</th><td>07-02-2022 14:53:54</td></tr>\n",
       "\t<tr><th scope=row>5</th><td>07-02-2022 14:53:55</td></tr>\n",
       "\t<tr><th scope=row>6</th><td>07-02-2022 14:53:56</td></tr>\n",
       "</tbody>\n",
       "</table>\n"
      ],
      "text/latex": [
       "A data.frame: 6 × 1\n",
       "\\begin{tabular}{r|l}\n",
       "  & fecha-hora\\\\\n",
       "  & <chr>\\\\\n",
       "\\hline\n",
       "\t1 & 07-02-2022 14:53:51\\\\\n",
       "\t2 & 07-02-2022 14:53:52\\\\\n",
       "\t3 & 07-02-2022 14:53:53\\\\\n",
       "\t4 & 07-02-2022 14:53:54\\\\\n",
       "\t5 & 07-02-2022 14:53:55\\\\\n",
       "\t6 & 07-02-2022 14:53:56\\\\\n",
       "\\end{tabular}\n"
      ],
      "text/markdown": [
       "\n",
       "A data.frame: 6 × 1\n",
       "\n",
       "| <!--/--> | fecha-hora &lt;chr&gt; |\n",
       "|---|---|\n",
       "| 1 | 07-02-2022 14:53:51 |\n",
       "| 2 | 07-02-2022 14:53:52 |\n",
       "| 3 | 07-02-2022 14:53:53 |\n",
       "| 4 | 07-02-2022 14:53:54 |\n",
       "| 5 | 07-02-2022 14:53:55 |\n",
       "| 6 | 07-02-2022 14:53:56 |\n",
       "\n"
      ],
      "text/plain": [
       "  fecha-hora         \n",
       "1 07-02-2022 14:53:51\n",
       "2 07-02-2022 14:53:52\n",
       "3 07-02-2022 14:53:53\n",
       "4 07-02-2022 14:53:54\n",
       "5 07-02-2022 14:53:55\n",
       "6 07-02-2022 14:53:56"
      ]
     },
     "metadata": {},
     "output_type": "display_data"
    }
   ],
   "source": [
    "head(datos[\"fecha-hora\"])"
   ]
  },
  {
   "cell_type": "code",
   "execution_count": 9,
   "id": "18f6f35c",
   "metadata": {},
   "outputs": [],
   "source": [
    "# datos  %>% separate(data = \"fecha-hora\", into = c(\"fecha\",\"hora\"), sep = \" \" )"
   ]
  },
  {
   "cell_type": "code",
   "execution_count": 10,
   "id": "e36ddc3e",
   "metadata": {},
   "outputs": [
    {
     "data": {
      "text/plain": [
       "[1] NA"
      ]
     },
     "metadata": {},
     "output_type": "display_data"
    }
   ],
   "source": [
    "strptime(\"12/02/2015 11:23\", \"%d/%m/%Y %h:%m\")"
   ]
  }
 ],
 "metadata": {
  "kernelspec": {
   "display_name": "R",
   "language": "R",
   "name": "ir"
  },
  "language_info": {
   "codemirror_mode": "r",
   "file_extension": ".r",
   "mimetype": "text/x-r-source",
   "name": "R",
   "pygments_lexer": "r",
   "version": "4.1.2"
  }
 },
 "nbformat": 4,
 "nbformat_minor": 5
}
