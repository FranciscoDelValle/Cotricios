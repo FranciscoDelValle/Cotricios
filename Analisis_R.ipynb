{
 "cells": [
  {
   "cell_type": "markdown",
   "id": "ffd5dbd6",
   "metadata": {},
   "source": [
    "<center> <h1> ANÁLISIS R </h1> </center>"
   ]
  },
  {
   "cell_type": "code",
   "execution_count": 2,
   "id": "bc5f2541",
   "metadata": {},
   "outputs": [],
   "source": [
    "#PAQUETES:\n",
    "\n",
    "library(tidyverse) #1.TIDYVERSE "
   ]
  },
  {
   "cell_type": "code",
   "execution_count": 3,
   "id": "91463b03",
   "metadata": {},
   "outputs": [
    {
     "data": {
      "text/html": [
       "5.5"
      ],
      "text/latex": [
       "5.5"
      ],
      "text/markdown": [
       "5.5"
      ],
      "text/plain": [
       "[1] 5.5"
      ]
     },
     "metadata": {},
     "output_type": "display_data"
    }
   ],
   "source": [
    "mean(c(1:10))"
   ]
  }
 ],
 "metadata": {
  "kernelspec": {
   "display_name": "R",
   "language": "R",
   "name": "ir"
  },
  "language_info": {
   "codemirror_mode": "r",
   "file_extension": ".r",
   "mimetype": "text/x-r-source",
   "name": "R",
   "pygments_lexer": "r",
   "version": "4.1.2"
  }
 },
 "nbformat": 4,
 "nbformat_minor": 5
}
