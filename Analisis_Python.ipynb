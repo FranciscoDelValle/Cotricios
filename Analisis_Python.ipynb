{
 "cells": [
  {
   "cell_type": "markdown",
   "id": "c232c1e0",
   "metadata": {},
   "source": [
    "<center > <h1> ANÁLISIS PYTHON </h1> </center>"
   ]
  },
  {
   "cell_type": "code",
   "execution_count": 1,
   "id": "aa2d0796",
   "metadata": {},
   "outputs": [],
   "source": [
    "#Paquetes\n",
    "import numpy as np #1. NUMPY\n",
    "import pandas as pd\n",
    "from numpy import random as rd"
   ]
  },
  {
   "cell_type": "code",
   "execution_count": 2,
   "id": "4355d3b3",
   "metadata": {},
   "outputs": [
    {
     "data": {
      "text/plain": [
       "' \\ndatos = np.array([1,2,3,4,5,6,7,8,9,10])\\n\\ndatos_util = np.array([i for i in datos if i>3 and i<9 ])\\n\\nprint(\"media:\",np.median(datos_util))\\nprint(\"desviación estándar:\", np.std(datos_util))\\n\\n\\n#random 10 datos, x,y,z\\n\\n'"
      ]
     },
     "execution_count": 2,
     "metadata": {},
     "output_type": "execute_result"
    }
   ],
   "source": [
    "#PLANTILLA PARA LO NECESARIO\n",
    "\n",
    "## no tomar en cuenta\n",
    "\n",
    "\"\"\" \n",
    "datos = np.array([1,2,3,4,5,6,7,8,9,10])\n",
    "\n",
    "datos_util = np.array([i for i in datos if i>3 and i<9 ])\n",
    "\n",
    "print(\"media:\",np.median(datos_util))\n",
    "print(\"desviación estándar:\", np.std(datos_util))\n",
    "\n",
    "\n",
    "#random 10 datos, x,y,z\n",
    "\n",
    "\"\"\""
   ]
  },
  {
   "cell_type": "code",
   "execution_count": 3,
   "id": "066f616e",
   "metadata": {},
   "outputs": [
    {
     "name": "stdout",
     "output_type": "stream",
     "text": [
      "     x   y   z\n",
      "0   79  73  72\n",
      "1   55  94  57\n",
      "2    6  33  44\n",
      "3   70  76  79\n",
      "4   83  36  53\n",
      "5   15  47  60\n",
      "6    4   7   8\n",
      "7    4  33  73\n",
      "8   41  48  82\n",
      "9   35  23  77\n",
      "10  99  87  24\n",
      "11  27  59  57\n",
      "12  19  90  30\n",
      "13  29  25  36\n",
      "14  56  79  20\n",
      "15  10  53  17\n",
      "16  70  58  63\n",
      "17  68  69  20\n",
      "18   0  89  50\n",
      "19  43  77   3\n"
     ]
    }
   ],
   "source": [
    "# BASE DE DATOS DE PRUEBA\n",
    "\n",
    "rd.seed(1789) ## seed para tener los mismos datos siempre\n",
    "\n",
    "datos = {\"x\": rd.randint(100, size=20), \n",
    "        \"y\":  rd.randint(100, size=20),\n",
    "        \"z\": rd.randint(100, size=20)}\n",
    "\n",
    "datos =  pd.DataFrame(datos)\n",
    "\n",
    "print(datos)\n"
   ]
  },
  {
   "cell_type": "code",
   "execution_count": 4,
   "id": "4d4d54ad",
   "metadata": {},
   "outputs": [
    {
     "name": "stdout",
     "output_type": "stream",
     "text": [
      "MEDIA: \n",
      " x    40.65\n",
      "y    57.80\n",
      "z    46.25\n",
      "dtype: float64 \n",
      " DESVIACIÓN ESTÁNDAR \n",
      " x    29.619715\n",
      "y    24.989198\n",
      "z    24.363651\n",
      "dtype: float64\n"
     ]
    },
    {
     "data": {
      "text/plain": [
       "'\\n'"
      ]
     },
     "execution_count": 4,
     "metadata": {},
     "output_type": "execute_result"
    }
   ],
   "source": [
    "#INFORMACIÓN ESTADÍSTICA \n",
    "print(\"MEDIA:\",\"\\n\", np.mean(datos), \"\\n\",\"DESVIACIÓN ESTÁNDAR\", \"\\n\", np.std(datos))\n",
    "\"\\n\"\n"
   ]
  },
  {
   "cell_type": "code",
   "execution_count": 18,
   "id": "5183593d",
   "metadata": {},
   "outputs": [
    {
     "name": "stdout",
     "output_type": "stream",
     "text": [
      "    pitch(x)  rol(y)  yaw(z)           fecha/hora\n",
      "0         34      67      93  07-02-2022 14:53:51\n",
      "1         16     115     128  07-02-2022 14:53:52\n",
      "2         57     101      47  07-02-2022 14:53:53\n",
      "3         57       7      51  07-02-2022 14:53:54\n",
      "4         12      77     161  07-02-2022 14:53:55\n",
      "5         59     146       0  07-02-2022 14:53:56\n",
      "6         85       5      45  07-02-2022 14:53:57\n",
      "7         35     100      99  07-02-2022 14:53:58\n",
      "8         80     106       8  07-02-2022 14:53:59\n",
      "9         65     173     154  07-02-2022 14:54:00\n",
      "10        63     136     110  07-02-2022 14:54:01\n",
      "11        29       1      79  07-02-2022 14:54:02\n",
      "12        65       9     179  07-02-2022 14:54:03\n",
      "13        44      69     118  07-02-2022 14:54:04\n",
      "14        58      69      44  07-02-2022 14:54:05\n",
      "15        42      97       6  07-02-2022 14:54:06\n",
      "16        16     101     119  07-02-2022 14:54:07\n",
      "17        51      41     105  07-02-2022 14:54:08\n",
      "18        21      19     163  07-02-2022 14:54:09\n",
      "19        48     122     104  07-02-2022 14:54:10\n",
      "20        86     152     103  07-02-2022 14:54:11\n",
      "21        53      29      50  07-02-2022 14:54:12\n",
      "22         7      65      56  07-02-2022 14:54:13\n",
      "23        83     165     149  07-02-2022 14:54:14\n",
      "24        23     102     119  07-02-2022 14:54:15\n",
      "25        31      93      67  07-02-2022 14:54:16\n",
      "26        72     155     101  07-02-2022 14:54:17\n",
      "27         3       8      21  07-02-2022 14:54:18\n",
      "28        82     157      25  07-02-2022 14:54:19\n",
      "29         3     151      74  07-02-2022 14:54:20\n",
      "30        26      94      43  07-02-2022 14:54:21\n",
      "31        88      21      62  07-02-2022 14:54:22\n",
      "32        78     177      35  07-02-2022 14:54:23\n",
      "33        54      73     112  07-02-2022 14:54:24\n",
      "34        89      62      39  07-02-2022 14:54:25\n",
      "35        41     132       4  07-02-2022 14:54:26\n",
      "36        40     158      14  07-02-2022 14:54:27\n",
      "37        90      11      17  07-02-2022 14:54:28\n",
      "38        33     127     141  07-02-2022 14:54:29\n",
      "39        17     156     129  07-02-2022 14:54:30\n",
      "40        78     149     176  07-02-2022 14:54:31\n",
      "41        32      24     128  07-02-2022 14:54:32\n",
      "42        49      13      55  07-02-2022 14:54:33\n",
      "43        15     173     116  07-02-2022 14:54:34\n",
      "44        41      18      10  07-02-2022 14:54:35\n",
      "45        36      91     141  07-02-2022 14:54:36\n",
      "46        51      57       5  07-02-2022 14:54:37\n",
      "47        78     136     134  07-02-2022 14:54:38\n",
      "48        70      60      30  07-02-2022 14:54:39\n"
     ]
    }
   ],
   "source": [
    "datos = pd.read_csv(\"data.csv\", sep = \";\")\n",
    "\n",
    "datos.columns = [\"pitch(x)\", \"rol(y)\", \"yaw(z)\",\"fecha/hora\"]\n",
    "\n",
    "print(datos)"
   ]
  },
  {
   "cell_type": "code",
   "execution_count": null,
   "id": "e0d111cb",
   "metadata": {},
   "outputs": [],
   "source": []
  }
 ],
 "metadata": {
  "kernelspec": {
   "display_name": "Python 3 (ipykernel)",
   "language": "python",
   "name": "python3"
  },
  "language_info": {
   "codemirror_mode": {
    "name": "ipython",
    "version": 3
   },
   "file_extension": ".py",
   "mimetype": "text/x-python",
   "name": "python",
   "nbconvert_exporter": "python",
   "pygments_lexer": "ipython3",
   "version": "3.10.1"
  }
 },
 "nbformat": 4,
 "nbformat_minor": 5
}
