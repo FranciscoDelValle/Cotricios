{
 "cells": [
  {
   "cell_type": "markdown",
   "id": "c232c1e0",
   "metadata": {},
   "source": [
    "<center > <h1> ANÁLISIS PYTHON </h1> </center>"
   ]
  },
  {
   "cell_type": "code",
   "execution_count": 1,
   "id": "aa2d0796",
   "metadata": {},
   "outputs": [],
   "source": [
    "#Paquetes\n",
    "import numpy as np #1. NUMPY\n",
    "import pandas as pd\n",
    "from numpy import random as rd"
   ]
  },
  {
   "cell_type": "code",
   "execution_count": 2,
   "id": "4355d3b3",
   "metadata": {},
   "outputs": [
    {
     "data": {
      "text/plain": [
       "' \\ndatos = np.array([1,2,3,4,5,6,7,8,9,10])\\n\\ndatos_util = np.array([i for i in datos if i>3 and i<9 ])\\n\\nprint(\"media:\",np.median(datos_util))\\nprint(\"desviación estándar:\", np.std(datos_util))\\n\\n\\n#random 10 datos, x,y,z\\n\\n'"
      ]
     },
     "execution_count": 2,
     "metadata": {},
     "output_type": "execute_result"
    }
   ],
   "source": [
    "#PLANTILLA PARA LO NECESARIO\n",
    "\n",
    "## no tomar en cuenta\n",
    "\n",
    "\"\"\" \n",
    "datos = np.array([1,2,3,4,5,6,7,8,9,10])\n",
    "\n",
    "datos_util = np.array([i for i in datos if i>3 and i<9 ])\n",
    "\n",
    "print(\"media:\",np.median(datos_util))\n",
    "print(\"desviación estándar:\", np.std(datos_util))\n",
    "\n",
    "\n",
    "#random 10 datos, x,y,z\n",
    "\n",
    "\"\"\""
   ]
  },
  {
   "cell_type": "code",
   "execution_count": 3,
   "id": "066f616e",
   "metadata": {},
   "outputs": [
    {
     "name": "stdout",
     "output_type": "stream",
     "text": [
      "     x   y   z\n",
      "0   79  73  72\n",
      "1   55  94  57\n",
      "2    6  33  44\n",
      "3   70  76  79\n",
      "4   83  36  53\n",
      "5   15  47  60\n",
      "6    4   7   8\n",
      "7    4  33  73\n",
      "8   41  48  82\n",
      "9   35  23  77\n",
      "10  99  87  24\n",
      "11  27  59  57\n",
      "12  19  90  30\n",
      "13  29  25  36\n",
      "14  56  79  20\n",
      "15  10  53  17\n",
      "16  70  58  63\n",
      "17  68  69  20\n",
      "18   0  89  50\n",
      "19  43  77   3\n"
     ]
    }
   ],
   "source": [
    "# BASE DE DATOS DE PRUEBA\n",
    "\n",
    "rd.seed(1789) ## seed para tener los mismos datos siempre\n",
    "\n",
    "datos = {\"x\": rd.randint(100, size=20), \n",
    "        \"y\":  rd.randint(100, size=20),\n",
    "        \"z\": rd.randint(100, size=20)}\n",
    "\n",
    "datos =  pd.DataFrame(datos)\n",
    "\n",
    "print(datos)\n"
   ]
  },
  {
   "cell_type": "code",
   "execution_count": 4,
   "id": "4d4d54ad",
   "metadata": {},
   "outputs": [
    {
     "name": "stdout",
     "output_type": "stream",
     "text": [
      "MEDIA: \n",
      " x    40.65\n",
      "y    57.80\n",
      "z    46.25\n",
      "dtype: float64 \n",
      " DESVIACIÓN ESTÁNDAR \n",
      " x    29.619715\n",
      "y    24.989198\n",
      "z    24.363651\n",
      "dtype: float64\n"
     ]
    },
    {
     "data": {
      "text/plain": [
       "'\\n'"
      ]
     },
     "execution_count": 4,
     "metadata": {},
     "output_type": "execute_result"
    }
   ],
   "source": [
    "#INFORMACIÓN ESTADÍSTICA \n",
    "print(\"MEDIA:\",\"\\n\", np.mean(datos), \"\\n\",\"DESVIACIÓN ESTÁNDAR\", \"\\n\", np.std(datos))\n",
    "\"\\n\"\n"
   ]
  },
  {
   "cell_type": "code",
   "execution_count": null,
   "id": "5183593d",
   "metadata": {},
   "outputs": [],
   "source": []
  },
  {
   "cell_type": "code",
   "execution_count": null,
   "id": "e0d111cb",
   "metadata": {},
   "outputs": [],
   "source": []
  }
 ],
 "metadata": {
  "kernelspec": {
   "display_name": "Python 3 (ipykernel)",
   "language": "python",
   "name": "python3"
  },
  "language_info": {
   "codemirror_mode": {
    "name": "ipython",
    "version": 3
   },
   "file_extension": ".py",
   "mimetype": "text/x-python",
   "name": "python",
   "nbconvert_exporter": "python",
   "pygments_lexer": "ipython3",
   "version": "3.10.1"
  }
 },
 "nbformat": 4,
 "nbformat_minor": 5
}
